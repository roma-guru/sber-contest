{
 "cells": [
  {
   "cell_type": "code",
   "execution_count": 1,
   "metadata": {},
   "outputs": [],
   "source": [
    "import pandas as pd\n",
    "from collections import Counter\n",
    "import functools\n",
    "import tqdm\n",
    "import re\n",
    "import numpy as np\n",
    "from sklearn.ensemble import GradientBoostingClassifier\n",
    "from sklearn.utils import shuffle\n",
    "import csv"
   ]
  },
  {
   "cell_type": "code",
   "execution_count": 4,
   "metadata": {},
   "outputs": [],
   "source": [
    "N_TOTAL = 119398\n",
    "\n",
    "N_TRAIN =  90000\n",
    "N_TEST = N_TOTAL - N_TRAIN"
   ]
  },
  {
   "cell_type": "code",
   "execution_count": 5,
   "metadata": {},
   "outputs": [],
   "source": [
    "# df = pd.read_csv(r\"C:\\dataA\\features.csv\") # Either run this cell or the next one with a pickle"
   ]
  },
  {
   "cell_type": "code",
   "execution_count": 6,
   "metadata": {},
   "outputs": [],
   "source": [
    "import pickle, gzip\n",
    "df = pickle.load(gzip.open(\"/media/artiom/Terminator/NLP-contest/taskA/dftrain_base_features.pickle\", \"rb\" ))"
   ]
  },
  {
   "cell_type": "code",
   "execution_count": 7,
   "metadata": {},
   "outputs": [],
   "source": [
    "df = shuffle(df)"
   ]
  },
  {
   "cell_type": "code",
   "execution_count": 8,
   "metadata": {},
   "outputs": [],
   "source": [
    "df_train = df.loc[:N_TRAIN]\n",
    "df_test = df.loc[N_TRAIN:]"
   ]
  },
  {
   "cell_type": "code",
   "execution_count": 13,
   "metadata": {},
   "outputs": [],
   "source": [
    "columns = ['len_paragraph', 'len_question', 'len_intersection', 'idf_question', 'idf_paragraph', 'idf_intersection']\n",
    "model = GradientBoostingClassifier().fit(df_train[columns], df_train['target'])"
   ]
  },
  {
   "cell_type": "code",
   "execution_count": 10,
   "metadata": {},
   "outputs": [],
   "source": [
    "# Другой вариант обучения - с меньшим количеством колонок\n",
    "columns = ['len_paragraph', 'len_question']\n",
    "model = GradientBoostingClassifier().fit(df_train[columns], df_train['target'])"
   ]
  },
  {
   "cell_type": "code",
   "execution_count": 14,
   "metadata": {
    "scrolled": false
   },
   "outputs": [
    {
     "name": "stderr",
     "output_type": "stream",
     "text": [
      "/home/artiom/ai.ml/lib/python3.5/site-packages/ipykernel_launcher.py:1: SettingWithCopyWarning: \n",
      "A value is trying to be set on a copy of a slice from a DataFrame.\n",
      "Try using .loc[row_indexer,col_indexer] = value instead\n",
      "\n",
      "See the caveats in the documentation: http://pandas.pydata.org/pandas-docs/stable/indexing.html#indexing-view-versus-copy\n",
      "  \"\"\"Entry point for launching an IPython kernel.\n"
     ]
    }
   ],
   "source": [
    "df_test['prediction'] = model.predict_proba(df_test[columns])[:, 1]"
   ]
  },
  {
   "cell_type": "code",
   "execution_count": 15,
   "metadata": {},
   "outputs": [
    {
     "name": "stderr",
     "output_type": "stream",
     "text": [
      "100%|██████████| 31406/31406 [00:05<00:00, 5368.90it/s]"
     ]
    },
    {
     "name": "stdout",
     "output_type": "stream",
     "text": [
      "Длина тестовой части 31406\n",
      "Всего в датасете единиц:  9045.0\n",
      "Всего в датасете нулей:  22361.0\n",
      "ДОЛЯ ВЕРНЫХ ОТВЕТОВ: 0.9736674520792206\n",
      "Верно угадано единиц:  8621  (доля  0.9531232725262576 )\n",
      "Верно угадано нулей:  21958  (доля  0.9819775501990072 )\n",
      "Предиктор сказал 'Да'  9000.21108920702 раз доля  0.28657616663080365 )\n"
     ]
    },
    {
     "name": "stderr",
     "output_type": "stream",
     "text": [
      "\n"
     ]
    }
   ],
   "source": [
    "pos = 0\n",
    "correctly_guessed_zeros = 0\n",
    "correctly_guessed_ones = 0\n",
    "\n",
    "predictor_said_yes = 0\n",
    "\n",
    "ones_in_dataset = 0\n",
    "\n",
    "for index, row in tqdm.tqdm(df_test.iterrows(), total=df_test.shape[0]):\n",
    "    target = row[\"target\"]\n",
    "    prediction = row[\"prediction\"]\n",
    "    \n",
    "    ones_in_dataset += target\n",
    "    predictor_said_yes += prediction\n",
    "                 \n",
    "    if round(prediction) == target:\n",
    "        pos += 1\n",
    "        \n",
    "        if target == 0:\n",
    "            correctly_guessed_zeros += 1\n",
    "        elif target == 1:\n",
    "            correctly_guessed_ones += 1\n",
    "        else:\n",
    "            print(\"Wow!\")\n",
    "            \n",
    "            \n",
    "zeros_in_dataset = df_test.shape[0] - ones_in_dataset\n",
    "            \n",
    "print(\"Длина тестовой части\", df_test.shape[0])            \n",
    "print(\"Всего в датасете единиц: \", ones_in_dataset)        \n",
    "print(\"Всего в датасете нулей: \", df_test.shape[0] - ones_in_dataset)      \n",
    "print(\"ДОЛЯ ВЕРНЫХ ОТВЕТОВ:\", pos / df_test.shape[0])\n",
    "print(\"Верно угадано единиц: \",correctly_guessed_ones,\" (доля \", correctly_guessed_ones/ones_in_dataset,\")\")\n",
    "print(\"Верно угадано нулей: \", correctly_guessed_zeros,\" (доля \", correctly_guessed_zeros/zeros_in_dataset,\")\")\n",
    "print(\"Предиктор сказал 'Да' \",predictor_said_yes, \"раз доля \", predictor_said_yes/df_test.shape[0],\")\")"
   ]
  },
  {
   "cell_type": "code",
   "execution_count": null,
   "metadata": {},
   "outputs": [],
   "source": []
  },
  {
   "cell_type": "code",
   "execution_count": 19,
   "metadata": {},
   "outputs": [
    {
     "data": {
      "text/plain": [
       "0.40160337552742614"
      ]
     },
     "execution_count": 19,
     "metadata": {},
     "output_type": "execute_result"
    }
   ],
   "source": [
    "9518/23700"
   ]
  },
  {
   "cell_type": "code",
   "execution_count": 31,
   "metadata": {},
   "outputs": [
    {
     "data": {
      "text/plain": [
       "1934"
      ]
     },
     "execution_count": 31,
     "metadata": {},
     "output_type": "execute_result"
    }
   ],
   "source": [
    "df_test.shape[0]"
   ]
  },
  {
   "cell_type": "code",
   "execution_count": null,
   "metadata": {
    "collapsed": true
   },
   "outputs": [],
   "source": []
  }
 ],
 "metadata": {
  "kernelspec": {
   "display_name": "Python 3",
   "language": "python",
   "name": "python3"
  },
  "language_info": {
   "codemirror_mode": {
    "name": "ipython",
    "version": 3
   },
   "file_extension": ".py",
   "mimetype": "text/x-python",
   "name": "python",
   "nbconvert_exporter": "python",
   "pygments_lexer": "ipython3",
   "version": "3.5.2"
  }
 },
 "nbformat": 4,
 "nbformat_minor": 2
}

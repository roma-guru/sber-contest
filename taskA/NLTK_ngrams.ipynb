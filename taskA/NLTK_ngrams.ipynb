{
 "cells": [
  {
   "cell_type": "code",
   "execution_count": 2,
   "metadata": {},
   "outputs": [],
   "source": [
    "import pandas as pd\n",
    "from collections import Counter\n",
    "import functools\n",
    "import tqdm\n",
    "import re\n",
    "import numpy as np\n",
    "import nltk"
   ]
  },
  {
   "cell_type": "code",
   "execution_count": 3,
   "metadata": {},
   "outputs": [],
   "source": [
    "dftrain, dftest = pd.read_csv(\"../train_task_a.csv\"), pd.read_csv(\"../test_task_a.csv\")"
   ]
  },
  {
   "cell_type": "code",
   "execution_count": 13,
   "metadata": {},
   "outputs": [],
   "source": [
    "from nltk.collocations import BigramCollocationFinder\n",
    "from nltk.collocations import TrigramCollocationFinder\n",
    "bigram_measures = nltk.collocations.BigramAssocMeasures()\n",
    "trigram_measures = nltk.collocations.TrigramAssocMeasures()"
   ]
  },
  {
   "cell_type": "code",
   "execution_count": 6,
   "metadata": {},
   "outputs": [
    {
     "name": "stdout",
     "output_type": "stream",
     "text": [
      "CPU times: user 18.3 s, sys: 875 ms, total: 19.2 s\n",
      "Wall time: 19.3 s\n"
     ]
    }
   ],
   "source": [
    "%%time\n",
    "dftrain['paragraph_tokens']=dftrain.paragraph.map(nltk.wordpunct_tokenize)"
   ]
  },
  {
   "cell_type": "code",
   "execution_count": 11,
   "metadata": {},
   "outputs": [
    {
     "name": "stdout",
     "output_type": "stream",
     "text": [
      "CPU times: user 3min 1s, sys: 283 ms, total: 3min 2s\n",
      "Wall time: 3min 2s\n"
     ]
    }
   ],
   "source": [
    "%%time\n",
    "finder = BigramCollocationFinder.from_documents(dftrain['paragraph_tokens'])\n",
    "bigrams = finder.score_ngrams(bigram_measures.raw_freq)"
   ]
  },
  {
   "cell_type": "code",
   "execution_count": 12,
   "metadata": {},
   "outputs": [
    {
     "data": {
      "text/plain": [
       "[(('.', 'В'), 0.004469943478942884),\n",
       " ((',', 'а'), 0.003024578869584148),\n",
       " ((',', 'в'), 0.002866326787309466),\n",
       " ((',', 'что'), 0.0027871015492964826),\n",
       " ((',', 'но'), 0.0019507396251310391),\n",
       " ((',', 'и'), 0.0019035219123253043),\n",
       " ((',', 'как'), 0.001466262084494047),\n",
       " ((',', 'которые'), 0.0012797058270360953),\n",
       " (('например', ','), 0.0012163520891258798),\n",
       " ((')', 'и'), 0.0010717230444394067)]"
      ]
     },
     "execution_count": 12,
     "metadata": {},
     "output_type": "execute_result"
    }
   ],
   "source": [
    "bigrams[:10]"
   ]
  },
  {
   "cell_type": "code",
   "execution_count": 14,
   "metadata": {},
   "outputs": [
    {
     "name": "stdout",
     "output_type": "stream",
     "text": [
      "CPU times: user 5min 44s, sys: 457 ms, total: 5min 44s\n",
      "Wall time: 5min 45s\n"
     ]
    }
   ],
   "source": [
    "%%time\n",
    "finder = TrigramCollocationFinder.from_documents(dftrain.paragraph_tokens)\n",
    "trigrams = finder.score_ngrams(trigram_measures.raw_freq)"
   ]
  },
  {
   "cell_type": "code",
   "execution_count": 16,
   "metadata": {},
   "outputs": [
    {
     "data": {
      "text/plain": [
       "[((',', 'а', 'также'), 0.0006875666107019938),\n",
       " ((',', 'например', ','), 0.0005088138407945696),\n",
       " ((',', 'так', 'и'), 0.00044975863416218714),\n",
       " (('(', 'фр', '.'), 0.00037172375865691135),\n",
       " (('и', 'т', '.'), 0.00036544128986623235),\n",
       " (('в', 'свою', 'очередь'), 0.0003435518459744982),\n",
       " (('свою', 'очередь', ','), 0.00033052398964014283),\n",
       " (('с', 'течением', 'времени'), 0.00033032559588885824),\n",
       " (('.', 'Таким', 'образом'), 0.0003123378957723879),\n",
       " (('в', 'то', 'время'), 0.0003107507457621111)]"
      ]
     },
     "execution_count": 16,
     "metadata": {},
     "output_type": "execute_result"
    }
   ],
   "source": [
    "trigrams[:10]"
   ]
  },
  {
   "cell_type": "code",
   "execution_count": null,
   "metadata": {},
   "outputs": [],
   "source": []
  }
 ],
 "metadata": {
  "kernelspec": {
   "display_name": "Python 3",
   "language": "python",
   "name": "python3"
  },
  "language_info": {
   "codemirror_mode": {
    "name": "ipython",
    "version": 3
   },
   "file_extension": ".py",
   "mimetype": "text/x-python",
   "name": "python",
   "nbconvert_exporter": "python",
   "pygments_lexer": "ipython3",
   "version": "3.6.2"
  }
 },
 "nbformat": 4,
 "nbformat_minor": 2
}

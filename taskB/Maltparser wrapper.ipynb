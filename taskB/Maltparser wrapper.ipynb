{
 "cells": [
  {
   "cell_type": "code",
   "execution_count": 89,
   "metadata": {},
   "outputs": [],
   "source": [
    "import nltk\n",
    "from nltk.parse.util import taggedsents_to_conll\n",
    "from pymorphy2 import MorphAnalyzer\n",
    "from pprint import pprint"
   ]
  },
  {
   "cell_type": "code",
   "execution_count": 2,
   "metadata": {},
   "outputs": [],
   "source": [
    "from russian_tagsets import converters"
   ]
  },
  {
   "cell_type": "code",
   "execution_count": 3,
   "metadata": {},
   "outputs": [],
   "source": [
    "m = MorphAnalyzer()\n",
    "word_tags = m.tag(\"Сейчас\")[0]\n"
   ]
  },
  {
   "cell_type": "code",
   "execution_count": 4,
   "metadata": {},
   "outputs": [],
   "source": [
    "conv = converters.converter('opencorpora-int', 'ud14')"
   ]
  },
  {
   "cell_type": "code",
   "execution_count": null,
   "metadata": {},
   "outputs": [],
   "source": []
  },
  {
   "cell_type": "code",
   "execution_count": 26,
   "metadata": {},
   "outputs": [],
   "source": [
    "parser = nltk.parse.malt.MaltParser(\n",
    "    parser_dirname=\"/home/artiom/Programming/NLP/maltparser/maltparser-1.9.1\",\n",
    "    model_filename=\"/home/artiom/Programming/NLP/maltparser/maltparser-1.9.1/russian_syntags.mco\")"
   ]
  },
  {
   "cell_type": "code",
   "execution_count": 102,
   "metadata": {},
   "outputs": [],
   "source": [
    "import os\n",
    "import sys\n",
    "import pymorphy2\n",
    "from russian_tagsets import converters\n",
    "\n",
    "class MaltParser:\n",
    "    def __init__(self, parser_jarname, model_filename, pymorphy_analyzer=None):\n",
    "        self.parser_jarname = parser_jarname\n",
    "        self.model_filename = model_filename\n",
    "        if not pymorphy_analyzer:\n",
    "            pymorphy_analyzer = pymorphy2.MorphAnalyzer()\n",
    "        self.pymorphy_analyzer = pymorphy_analyzer\n",
    "        self.oc2ud = converters.converter('opencorpora-int','ud20')\n",
    "\n",
    "\n",
    "    # TODO: Вынести    \n",
    "    def text_to_conllu(self, txt):\n",
    "        sents = nltk.sent_tokenize(txt)\n",
    "        out_text = []\n",
    "        for i,s in enumerate(sents):\n",
    "            s = s.replace('\\n','')\n",
    "            tokens = nltk.word_tokenize(s)\n",
    "            out_text.append(\"\\n# sent: {}\".format(i))\n",
    "            out_text.append(\"# text: {}\".format(s))\n",
    "            for j,t in enumerate(tokens):\n",
    "                t = m.parse(t)[0]\n",
    "                pos, feats = self.oc2ud(str(t.tag)).split(' ')\n",
    "                out_text.append(\"{0}\\t{1}\\t{2}\\t{3}\\t_\\t{4}\\t_\\t_\\t_\\t_\".format(j+1, t.word, \n",
    "                                                           t.normal_form, pos,\n",
    "                                                            feats))\n",
    "        return \"\\n\".join(out_text)[1:]\n",
    "\n",
    "\n",
    "    def output_process(self, lines):\n",
    "        res = []\n",
    "        curr_sent = []\n",
    "        for i, l in enumerate(lines):\n",
    "            l = l.strip()\n",
    "            if not l:\n",
    "                # next sent\n",
    "                if curr_sent:\n",
    "                    res.append(curr_sent)\n",
    "                curr_sent = []\n",
    "            elif l.startswith('#'):\n",
    "                continue\n",
    "            else:\n",
    "                c = {}\n",
    "                c['id'], c['token'], c['norm_form'], c['pos'], _, c['feats'], c['par'], c['deprel'], _, _ = l.split('\\t')\n",
    "                curr_sent.append(c)\n",
    "\n",
    "        if len(res) and len(curr_sent) and res[-1] != curr_sent:\n",
    "            res.append(curr_sent)\n",
    "\n",
    "        return res\n",
    "    \n",
    "    def parse(self, txt):\n",
    "        text_filename = \"param.tmp\"\n",
    "        result_filename = \"out.tmp\"\n",
    "        \n",
    "        txt_conllu = self.text_to_conllu(txt)\n",
    "        \n",
    "        with open(text_filename, \"w\") as f_txt:\n",
    "            f_txt.write(txt_conllu)\n",
    "            \n",
    "        command_to_run = \"java -jar \" + self.parser_jarname + \" -c \" + self.model_filename + \" -i \" + text_filename + \" -m parse -o \" + result_filename\n",
    "        print(\"Running:\", command_to_run)\n",
    "        \n",
    "        os.system(command_to_run)\n",
    "        with open(result_filename, \"r\", encoding=\"utf8\") as f_res:\n",
    "            result_text = f_res.readlines()\n",
    "            \n",
    "        return self.output_process(result_text)\n",
    "        \n",
    "        \n",
    "        "
   ]
  },
  {
   "cell_type": "code",
   "execution_count": 103,
   "metadata": {},
   "outputs": [],
   "source": [
    "malt_parser = MaltParser(\"maltparser-1.9.1.jar\", \"russian_syntags\", m)"
   ]
  },
  {
   "cell_type": "code",
   "execution_count": 124,
   "metadata": {},
   "outputs": [
    {
     "name": "stdout",
     "output_type": "stream",
     "text": [
      "Running: java -jar maltparser-1.9.1.jar -c russian_syntags -i param.tmp -m parse -o out.tmp\n"
     ]
    }
   ],
   "source": [
    "r = malt_parser.parse(\"Привет, дамы и господа! Спойте песню!\")"
   ]
  },
  {
   "cell_type": "code",
   "execution_count": 126,
   "metadata": {},
   "outputs": [
    {
     "data": {
      "text/plain": [
       "[[{'deprel': 'ROOT',\n",
       "   'feats': 'Animacy=Inan|Case=Nom|Gender=Masc|Number=Sing',\n",
       "   'id': '1',\n",
       "   'norm_form': 'привет',\n",
       "   'par': '0',\n",
       "   'pos': 'NOUN',\n",
       "   'token': 'привет'},\n",
       "  {'deprel': 'punct',\n",
       "   'feats': '_',\n",
       "   'id': '2',\n",
       "   'norm_form': ',',\n",
       "   'par': '1',\n",
       "   'pos': 'PUNCT',\n",
       "   'token': ','},\n",
       "  {'deprel': 'conj',\n",
       "   'feats': 'Animacy=Anim|Case=Nom|Gender=Fem|Number=Plur',\n",
       "   'id': '3',\n",
       "   'norm_form': 'дама',\n",
       "   'par': '1',\n",
       "   'pos': 'NOUN',\n",
       "   'token': 'дамы'},\n",
       "  {'deprel': 'cc',\n",
       "   'feats': '_',\n",
       "   'id': '4',\n",
       "   'norm_form': 'и',\n",
       "   'par': '5',\n",
       "   'pos': 'CCONJ',\n",
       "   'token': 'и'},\n",
       "  {'deprel': 'conj',\n",
       "   'feats': 'Animacy=Anim|Case=Nom|Gender=Masc|Number=Plur',\n",
       "   'id': '5',\n",
       "   'norm_form': 'господин',\n",
       "   'par': '1',\n",
       "   'pos': 'NOUN',\n",
       "   'token': 'господа'},\n",
       "  {'deprel': 'punct',\n",
       "   'feats': '_',\n",
       "   'id': '6',\n",
       "   'norm_form': '!',\n",
       "   'par': '5',\n",
       "   'pos': 'PUNCT',\n",
       "   'token': '!'}],\n",
       " [{'deprel': 'root',\n",
       "   'feats': 'Aspect=Perf|Mood=Imp|Number=Plur|Person=2|VerbForm=Fin',\n",
       "   'id': '1',\n",
       "   'norm_form': 'спеть',\n",
       "   'par': '0',\n",
       "   'pos': 'VERB',\n",
       "   'token': 'спойте'},\n",
       "  {'deprel': 'obj',\n",
       "   'feats': 'Animacy=Inan|Case=Acc|Gender=Fem|Number=Sing',\n",
       "   'id': '2',\n",
       "   'norm_form': 'песня',\n",
       "   'par': '1',\n",
       "   'pos': 'NOUN',\n",
       "   'token': 'песню'},\n",
       "  {'deprel': 'punct',\n",
       "   'feats': '_',\n",
       "   'id': '3',\n",
       "   'norm_form': '!',\n",
       "   'par': '2',\n",
       "   'pos': 'PUNCT',\n",
       "   'token': '!'}]]"
      ]
     },
     "execution_count": 126,
     "metadata": {},
     "output_type": "execute_result"
    }
   ],
   "source": [
    "r"
   ]
  },
  {
   "cell_type": "code",
   "execution_count": 122,
   "metadata": {},
   "outputs": [],
   "source": [
    "def to_visjs_graph(sentence):\n",
    "    from json import dumps\n",
    "    edges = []\n",
    "    nodes = []\n",
    "    for token_line in sentence:\n",
    "        id = int(token_line[\"id\"])\n",
    "        par_id = int(token_line[\"par\"])\n",
    "        deprel = token_line[\"deprel\"]\n",
    "        \n",
    "        if par_id:\n",
    "            edges.append({\"from\": id,  \"to\": par_id, \"label\": deprel})\n",
    "            \n",
    "        word = token_line[\"token\"]\n",
    "        pos = token_line[\"pos\"]\n",
    "        label = \"{} ({})\".format(word, pos)\n",
    "        nodes.append({\"id\": id, \"label\": label})\n",
    "        \n",
    "    return dumps(nodes, ensure_ascii=False),dumps(edges, ensure_ascii=False)\n",
    "\n"
   ]
  },
  {
   "cell_type": "code",
   "execution_count": 125,
   "metadata": {},
   "outputs": [
    {
     "data": {
      "text/plain": [
       "('[{\"label\": \"привет (NOUN)\", \"id\": 1}, {\"label\": \", (PUNCT)\", \"id\": 2}, {\"label\": \"дамы (NOUN)\", \"id\": 3}, {\"label\": \"и (CCONJ)\", \"id\": 4}, {\"label\": \"господа (NOUN)\", \"id\": 5}, {\"label\": \"! (PUNCT)\", \"id\": 6}]',\n",
       " '[{\"from\": 2, \"label\": \"punct\", \"to\": 1}, {\"from\": 3, \"label\": \"conj\", \"to\": 1}, {\"from\": 4, \"label\": \"cc\", \"to\": 5}, {\"from\": 5, \"label\": \"conj\", \"to\": 1}, {\"from\": 6, \"label\": \"punct\", \"to\": 5}]')"
      ]
     },
     "execution_count": 125,
     "metadata": {},
     "output_type": "execute_result"
    }
   ],
   "source": [
    "to_visjs_graph(r[0])"
   ]
  },
  {
   "cell_type": "code",
   "execution_count": 97,
   "metadata": {},
   "outputs": [],
   "source": [
    "script_template "
   ]
  },
  {
   "cell_type": "code",
   "execution_count": 98,
   "metadata": {},
   "outputs": [
    {
     "name": "stdout",
     "output_type": "stream",
     "text": [
      "[[{'deprel': 'ROOT',\n",
      "   'feats': 'Animacy=Inan|Case=Nom|Gender=Masc|Number=Sing',\n",
      "   'id': '1',\n",
      "   'norm_form': 'привет',\n",
      "   'par': '0',\n",
      "   'pos': 'NOUN',\n",
      "   'token': 'привет'},\n",
      "  {'deprel': 'punct',\n",
      "   'feats': '_',\n",
      "   'id': '2',\n",
      "   'norm_form': ',',\n",
      "   'par': '1',\n",
      "   'pos': 'PUNCT',\n",
      "   'token': ','},\n",
      "  {'deprel': 'conj',\n",
      "   'feats': 'Animacy=Anim|Case=Nom|Gender=Fem|Number=Plur',\n",
      "   'id': '3',\n",
      "   'norm_form': 'дама',\n",
      "   'par': '1',\n",
      "   'pos': 'NOUN',\n",
      "   'token': 'дамы'},\n",
      "  {'deprel': 'cc',\n",
      "   'feats': '_',\n",
      "   'id': '4',\n",
      "   'norm_form': 'и',\n",
      "   'par': '5',\n",
      "   'pos': 'CCONJ',\n",
      "   'token': 'и'},\n",
      "  {'deprel': 'conj',\n",
      "   'feats': 'Animacy=Anim|Case=Nom|Gender=Masc|Number=Plur',\n",
      "   'id': '5',\n",
      "   'norm_form': 'господин',\n",
      "   'par': '1',\n",
      "   'pos': 'NOUN',\n",
      "   'token': 'господа'},\n",
      "  {'deprel': 'punct',\n",
      "   'feats': '_',\n",
      "   'id': '6',\n",
      "   'norm_form': '!',\n",
      "   'par': '5',\n",
      "   'pos': 'PUNCT',\n",
      "   'token': '!'}],\n",
      " [{'deprel': 'root',\n",
      "   'feats': 'Aspect=Perf|Mood=Imp|Number=Plur|Person=2|VerbForm=Fin',\n",
      "   'id': '1',\n",
      "   'norm_form': 'спеть',\n",
      "   'par': '0',\n",
      "   'pos': 'VERB',\n",
      "   'token': 'спойте'},\n",
      "  {'deprel': 'obj',\n",
      "   'feats': 'Animacy=Inan|Case=Acc|Gender=Fem|Number=Sing',\n",
      "   'id': '2',\n",
      "   'norm_form': 'песня',\n",
      "   'par': '1',\n",
      "   'pos': 'NOUN',\n",
      "   'token': 'песню'},\n",
      "  {'deprel': 'punct',\n",
      "   'feats': '_',\n",
      "   'id': '3',\n",
      "   'norm_form': '!',\n",
      "   'par': '2',\n",
      "   'pos': 'PUNCT',\n",
      "   'token': '!'}]]\n"
     ]
    }
   ],
   "source": [
    "pprint(output_process(r))"
   ]
  },
  {
   "cell_type": "code",
   "execution_count": null,
   "metadata": {},
   "outputs": [],
   "source": []
  }
 ],
 "metadata": {
  "kernelspec": {
   "display_name": "Python 3",
   "language": "python",
   "name": "python3"
  },
  "language_info": {
   "codemirror_mode": {
    "name": "ipython",
    "version": 3
   },
   "file_extension": ".py",
   "mimetype": "text/x-python",
   "name": "python",
   "nbconvert_exporter": "python",
   "pygments_lexer": "ipython3",
   "version": "3.5.2"
  }
 },
 "nbformat": 4,
 "nbformat_minor": 2
}

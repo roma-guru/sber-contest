{
 "cells": [
  {
   "cell_type": "markdown",
   "metadata": {
    "ExecuteTime": {
     "end_time": "2017-09-02T12:43:47.852477",
     "start_time": "2017-09-02T12:43:47.848564"
    }
   },
   "source": [
    "# Baseline: MaxMatch"
   ]
  },
  {
   "cell_type": "code",
   "execution_count": null,
   "metadata": {
    "ExecuteTime": {
     "end_time": "2017-09-09T21:19:51.011640Z",
     "start_time": "2017-09-09T21:19:51.007599Z"
    },
    "collapsed": true
   },
   "outputs": [],
   "source": [
    "import re\n",
    "import numpy as np\n",
    "import pandas as pd"
   ]
  },
  {
   "cell_type": "code",
   "execution_count": null,
   "metadata": {
    "ExecuteTime": {
     "end_time": "2017-09-09T21:19:51.219637Z",
     "start_time": "2017-09-09T21:19:51.213207Z"
    },
    "collapsed": true
   },
   "outputs": [],
   "source": [
    "import os\n",
    "import sys\n",
    "\n",
    "DATA_FILE = os.environ.get('INPUT', 'train.csv')\n",
    "PREDICTION_FILE = os.environ.get('OUTPUT')"
   ]
  },
  {
   "cell_type": "markdown",
   "metadata": {},
   "source": [
    "Читаем входные файлы с данными"
   ]
  },
  {
   "cell_type": "code",
   "execution_count": null,
   "metadata": {
    "ExecuteTime": {
     "end_time": "2017-09-09T21:19:53.228163Z",
     "start_time": "2017-09-09T21:19:53.180686Z"
    }
   },
   "outputs": [],
   "source": [
    "df = pd.DataFrame.from_csv(DATA_FILE, sep=',', index_col=None)\n",
    "if 'answer' in df.columns.values:\n",
    "    df = df[['paragraph_id', 'question_id', 'paragraph', 'question', 'answer']]\n",
    "else:\n",
    "    df = df[['paragraph_id', 'question_id', 'paragraph', 'question']]"
   ]
  },
  {
   "cell_type": "code",
   "execution_count": null,
   "metadata": {
    "ExecuteTime": {
     "end_time": "2017-09-09T21:05:12.230908Z",
     "start_time": "2017-09-09T21:05:12.198352Z"
    }
   },
   "outputs": [],
   "source": [
    "df.head(1)"
   ]
  },
  {
   "cell_type": "markdown",
   "metadata": {},
   "source": [
    "Для каждого вопроса находим предложение параграфа, которое содержит наибольшее количество слов из вопроса"
   ]
  },
  {
   "cell_type": "code",
   "execution_count": null,
   "metadata": {
    "collapsed": true
   },
   "outputs": [],
   "source": [
    "\"\"\" Official evaluation script for the SDSJ dataset. \"\"\"\n",
    "from collections import Counter\n",
    "import re\n",
    "\n",
    "def normalize_answer(text):\n",
    "    \"\"\"Lower text and remove punctuation and extra whitespace.\"\"\"\n",
    "    return ' '.join(re.findall(r\"\\w+\", text)).lower()\n",
    "\n",
    "def f1_score(prediction, ground_truth):\n",
    "    prediction_tokens = normalize_answer(prediction).split()\n",
    "    ground_truth_tokens = normalize_answer(ground_truth).split()\n",
    "    common = Counter(prediction_tokens) & Counter(ground_truth_tokens)\n",
    "    num_same = sum(common.values())\n",
    "    if num_same == 0:\n",
    "        return 0\n",
    "    precision = 1.0 * num_same / len(prediction_tokens)\n",
    "    recall = 1.0 * num_same / len(ground_truth_tokens)\n",
    "    f1 = (2 * precision * recall) / (precision + recall)\n",
    "    return f1"
   ]
  },
  {
   "cell_type": "code",
   "execution_count": null,
   "metadata": {
    "ExecuteTime": {
     "end_time": "2017-09-09T21:05:18.551451Z",
     "start_time": "2017-09-09T21:05:18.539983Z"
    }
   },
   "outputs": [],
   "source": [
    "def sentence_to_word(sentences):\n",
    "    sentences_in_words = list()\n",
    "    for sentence in sentences:\n",
    "        sentences_in_words.append(normalize_answer(sentence).split())\n",
    "    return sentences_in_words\n",
    "\n",
    "\n",
    "def text_to_sentence(text):\n",
    "    sentences = text.split(\".\")\n",
    "    return [s.strip() for s in sentences if s.strip() != '']"
   ]
  },
  {
   "cell_type": "code",
   "execution_count": null,
   "metadata": {
    "ExecuteTime": {
     "end_time": "2017-09-09T21:05:19.579906Z",
     "start_time": "2017-09-09T21:05:19.557069Z"
    },
    "collapsed": true
   },
   "outputs": [],
   "source": [
    "def get_max_match_sentance(data_row):\n",
    "    sentences = text_to_sentence(data_row[\"paragraph\"])\n",
    "    sentences_in_words = sentence_to_word(sentences)\n",
    "    question_in_words = sentence_to_word([data_row[\"question\"]])[0]\n",
    "\n",
    "    max_overlap = None\n",
    "    max_match_sentance_id = None\n",
    "\n",
    "    question_words = set(question_in_words)\n",
    "    for sentance_id in range(len(sentences_in_words)):\n",
    "        sentence_words = set(sentences_in_words[sentance_id])\n",
    "        overlap = len(sentence_words.intersection(question_words))\n",
    "        if max_overlap is None or overlap > max_overlap:\n",
    "            max_overlap = overlap\n",
    "            max_match_sentance_id = sentance_id\n",
    "\n",
    "    return sentences[max_match_sentance_id]"
   ]
  },
  {
   "cell_type": "markdown",
   "metadata": {},
   "source": [
    "Отвечаем на вопрос предложением, которое максимально пересекается с вопросом по словам"
   ]
  },
  {
   "cell_type": "code",
   "execution_count": null,
   "metadata": {
    "ExecuteTime": {
     "end_time": "2017-09-09T21:05:30.073891Z",
     "start_time": "2017-09-09T21:05:30.023466Z"
    }
   },
   "outputs": [],
   "source": [
    "df['predictions'] = None\n",
    "for data_ind in df.index.values:\n",
    "    full_sentance = get_max_match_sentance(df.loc[data_ind])\n",
    "    df.loc[data_ind,('predictions')] = full_sentance"
   ]
  },
  {
   "cell_type": "markdown",
   "metadata": {},
   "source": [
    "Оцениваем качество решения"
   ]
  },
  {
   "cell_type": "code",
   "execution_count": null,
   "metadata": {
    "ExecuteTime": {
     "end_time": "2017-09-05T09:39:52.894127",
     "start_time": "2017-09-05T09:39:52.886751"
    },
    "collapsed": true
   },
   "outputs": [],
   "source": [
    "def get_score(df_solution, df_predictions):\n",
    "    score = {\n",
    "        'f1':\n",
    "        np.mean([\n",
    "            f1_score(prediction, answer) for answer, prediction in zip(df_solution, df_predictions)\n",
    "        ]),\n",
    "    }\n",
    "    return score"
   ]
  },
  {
   "cell_type": "code",
   "execution_count": null,
   "metadata": {
    "ExecuteTime": {
     "end_time": "2017-09-05T09:39:55.087431",
     "start_time": "2017-09-05T09:39:53.624961"
    }
   },
   "outputs": [],
   "source": [
    "if 'answer' in df.columns.values:\n",
    "    print(get_score(df['predictions'].values, df['answer'].values))"
   ]
  },
  {
   "cell_type": "markdown",
   "metadata": {
    "collapsed": true
   },
   "source": [
    "Пример создания файла с ответ"
   ]
  },
  {
   "cell_type": "code",
   "execution_count": null,
   "metadata": {
    "ExecuteTime": {
     "end_time": "2017-09-04T12:06:26.008959",
     "start_time": "2017-09-04T12:06:25.763745"
    }
   },
   "outputs": [],
   "source": [
    "if PREDICTION_FILE is not None:\n",
    "    df['answer'] = df['predictions']\n",
    "    df.set_index(['paragraph_id', 'question_id'])['answer'].to_csv(PREDICTION_FILE, header=True)"
   ]
  },
  {
   "cell_type": "code",
   "execution_count": null,
   "metadata": {
    "collapsed": true
   },
   "outputs": [],
   "source": []
  },
  {
   "cell_type": "code",
   "execution_count": null,
   "metadata": {
    "collapsed": true
   },
   "outputs": [],
   "source": []
  }
 ],
 "metadata": {
  "kernelspec": {
   "display_name": "Python 3",
   "language": "python",
   "name": "python3"
  },
  "language_info": {
   "codemirror_mode": {
    "name": "ipython",
    "version": 3
   },
   "file_extension": ".py",
   "mimetype": "text/x-python",
   "name": "python",
   "nbconvert_exporter": "python",
   "pygments_lexer": "ipython3",
   "version": "3.6.2"
  },
  "toc": {
   "toc_cell": false,
   "toc_number_sections": true,
   "toc_threshold": 6,
   "toc_window_display": false
  }
 },
 "nbformat": 4,
 "nbformat_minor": 2
}

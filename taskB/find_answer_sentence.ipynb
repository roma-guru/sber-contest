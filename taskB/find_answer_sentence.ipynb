{
 "cells": [
  {
   "cell_type": "code",
   "execution_count": 2,
   "metadata": {},
   "outputs": [],
   "source": [
    "import numpy as np\n",
    "import pandas as pd\n",
    "import nltk"
   ]
  },
  {
   "cell_type": "code",
   "execution_count": 9,
   "metadata": {},
   "outputs": [],
   "source": [
    "#df=pd.read_csv('../train_task_b.csv')\n",
    "df = pd.read_pickle('word_features_test.pickle')"
   ]
  },
  {
   "cell_type": "code",
   "execution_count": 7,
   "metadata": {
    "scrolled": true
   },
   "outputs": [
    {
     "data": {
      "text/html": [
       "<div>\n",
       "<style>\n",
       "    .dataframe thead tr:only-child th {\n",
       "        text-align: right;\n",
       "    }\n",
       "\n",
       "    .dataframe thead th {\n",
       "        text-align: left;\n",
       "    }\n",
       "\n",
       "    .dataframe tbody tr th {\n",
       "        vertical-align: top;\n",
       "    }\n",
       "</style>\n",
       "<table border=\"1\" class=\"dataframe\">\n",
       "  <thead>\n",
       "    <tr style=\"text-align: right;\">\n",
       "      <th></th>\n",
       "      <th>paragraph_id</th>\n",
       "      <th>question_id</th>\n",
       "      <th>paragraph</th>\n",
       "      <th>question</th>\n",
       "      <th>answer</th>\n",
       "    </tr>\n",
       "  </thead>\n",
       "  <tbody>\n",
       "    <tr>\n",
       "      <th>0</th>\n",
       "      <td>14754</td>\n",
       "      <td>60544</td>\n",
       "      <td>Первые упоминания о строении человеческого тел...</td>\n",
       "      <td>Где встречаются первые упоминания о строении ч...</td>\n",
       "      <td>в Древнем Египте</td>\n",
       "    </tr>\n",
       "    <tr>\n",
       "      <th>1</th>\n",
       "      <td>13859</td>\n",
       "      <td>1604</td>\n",
       "      <td>Телескоп имеет модульную структуру и содержит ...</td>\n",
       "      <td>Как называется корректирующая оптическая систе...</td>\n",
       "      <td>COSTAR</td>\n",
       "    </tr>\n",
       "    <tr>\n",
       "      <th>2</th>\n",
       "      <td>8310</td>\n",
       "      <td>30350</td>\n",
       "      <td>Критики теории Вегенера поставили во главу угл...</td>\n",
       "      <td>Какая теория была отвергнута после смерти Веге...</td>\n",
       "      <td>теория дрейфа материков</td>\n",
       "    </tr>\n",
       "    <tr>\n",
       "      <th>3</th>\n",
       "      <td>8766</td>\n",
       "      <td>53270</td>\n",
       "      <td>При нагревании кусочки янтаря становятся очень...</td>\n",
       "      <td>Чему не уступают по красоте изделия из прессов...</td>\n",
       "      <td>изделиям из монолитных камней</td>\n",
       "    </tr>\n",
       "    <tr>\n",
       "      <th>4</th>\n",
       "      <td>14719</td>\n",
       "      <td>75698</td>\n",
       "      <td>Нисходящие дифтонги со слабым гласным /i/ и /u...</td>\n",
       "      <td>На какие группы классифицируют дифтонги?</td>\n",
       "      <td>оральные и назальные</td>\n",
       "    </tr>\n",
       "  </tbody>\n",
       "</table>\n",
       "</div>"
      ],
      "text/plain": [
       "   paragraph_id  question_id  \\\n",
       "0         14754        60544   \n",
       "1         13859         1604   \n",
       "2          8310        30350   \n",
       "3          8766        53270   \n",
       "4         14719        75698   \n",
       "\n",
       "                                           paragraph  \\\n",
       "0  Первые упоминания о строении человеческого тел...   \n",
       "1  Телескоп имеет модульную структуру и содержит ...   \n",
       "2  Критики теории Вегенера поставили во главу угл...   \n",
       "3  При нагревании кусочки янтаря становятся очень...   \n",
       "4  Нисходящие дифтонги со слабым гласным /i/ и /u...   \n",
       "\n",
       "                                            question  \\\n",
       "0  Где встречаются первые упоминания о строении ч...   \n",
       "1  Как называется корректирующая оптическая систе...   \n",
       "2  Какая теория была отвергнута после смерти Веге...   \n",
       "3  Чему не уступают по красоте изделия из прессов...   \n",
       "4           На какие группы классифицируют дифтонги?   \n",
       "\n",
       "                          answer  \n",
       "0               в Древнем Египте  \n",
       "1                         COSTAR  \n",
       "2        теория дрейфа материков  \n",
       "3  изделиям из монолитных камней  \n",
       "4           оральные и назальные  "
      ]
     },
     "execution_count": 7,
     "metadata": {},
     "output_type": "execute_result"
    }
   ],
   "source": [
    "df.head()"
   ]
  },
  {
   "cell_type": "code",
   "execution_count": 65,
   "metadata": {},
   "outputs": [],
   "source": [
    "# Вот тут нужен на самом деле russian.pickle, но его придется делать самим\n",
    "df['paragraph_sent']=df['paragraph'].map(nltk.sent_tokenize)"
   ]
  },
  {
   "cell_type": "code",
   "execution_count": 9,
   "metadata": {},
   "outputs": [],
   "source": [
    "def answer_sent(row):\n",
    "    sents = row['paragraph_sent']\n",
    "    ans = row['answer'].lower().strip(' .')\n",
    "    sent = next(filter(lambda s: ans in s.lower(), sents), None)\n",
    "    return sents.index(sent) if sent else -1"
   ]
  },
  {
   "cell_type": "code",
   "execution_count": 66,
   "metadata": {},
   "outputs": [],
   "source": [
    "# Где-то 1% не находит из-за неправильной разбивки предложений\n",
    "df['answer_sent'] = df.apply(answer_sent, axis=1)"
   ]
  },
  {
   "cell_type": "code",
   "execution_count": 40,
   "metadata": {},
   "outputs": [],
   "source": [
    "# Разбивка предложений на слова (наверно оптимальней было разбивать весь параграф?)\n",
    "df['paragraph_sent_words'] = df['paragraph_sent'].map(lambda m: list(map(lambda s: set(nltk.word_tokenize(s)), m)))"
   ]
  },
  {
   "cell_type": "code",
   "execution_count": 51,
   "metadata": {},
   "outputs": [],
   "source": [
    "# Разбивка вопросов на слова\n",
    "df['question_words'] = df.question.map(lambda q: set(nltk.word_tokenize(q)))"
   ]
  },
  {
   "cell_type": "code",
   "execution_count": 12,
   "metadata": {},
   "outputs": [],
   "source": [
    "def pred_sent(row):\n",
    "    sent_words = row.paragraph_sent_words\n",
    "    quest_words = row.question_words\n",
    "    max = 0\n",
    "    arg_max = -1\n",
    "    for i,s in enumerate(sent_words):\n",
    "        metric = len(s & quest_words)\n",
    "        if metric>max:\n",
    "            max=metric\n",
    "            arg_max=i\n",
    "    return arg_max"
   ]
  },
  {
   "cell_type": "code",
   "execution_count": 13,
   "metadata": {},
   "outputs": [],
   "source": [
    "df['pred_sent'] = df.apply(pred_sent, axis=1)"
   ]
  },
  {
   "cell_type": "code",
   "execution_count": 85,
   "metadata": {},
   "outputs": [
    {
     "name": "stdout",
     "output_type": "stream",
     "text": [
      "Result is 80.27%\n"
     ]
    }
   ],
   "source": [
    "correct=len(df[df.pred_sent==df.answer_sent])\n",
    "total=len(df)\n",
    "print(\"Result is {:.2f}%\".format(correct/total*100))"
   ]
  },
  {
   "cell_type": "code",
   "execution_count": 86,
   "metadata": {},
   "outputs": [],
   "source": [
    "df.to_csv('word_features_test.csv')"
   ]
  },
  {
   "cell_type": "code",
   "execution_count": null,
   "metadata": {},
   "outputs": [],
   "source": []
  }
 ],
 "metadata": {
  "kernelspec": {
   "display_name": "Python 3",
   "language": "python",
   "name": "python3"
  },
  "language_info": {
   "codemirror_mode": {
    "name": "ipython",
    "version": 3
   },
   "file_extension": ".py",
   "mimetype": "text/x-python",
   "name": "python",
   "nbconvert_exporter": "python",
   "pygments_lexer": "ipython3",
   "version": "3.6.2"
  }
 },
 "nbformat": 4,
 "nbformat_minor": 2
}
